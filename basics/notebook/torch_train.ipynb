{
 "cells": [
  {
   "cell_type": "markdown",
   "id": "f8c04a4c-3dbb-49cd-9aef-e7fcf15670fe",
   "metadata": {},
   "source": [
    "# TRAINING A CLASSIFIER\n",
    "We will do the following steps in order:\n",
    "\n",
    "- Load and normalize the CIFAR10 training and test datasets using torchvision\n",
    "- Define a Convolutional Neural Network\n",
    "- Define a loss function\n",
    "- Train the network on the training data\n",
    "- Test the network on the test data"
   ]
  },
  {
   "cell_type": "code",
   "execution_count": null,
   "id": "84fe8533-ec64-4f9e-bcf3-7f16dd9842c6",
   "metadata": {},
   "outputs": [],
   "source": []
  },
  {
   "cell_type": "code",
   "execution_count": null,
   "id": "9224e3e4-28c3-4aa2-b6f6-37eb72995f07",
   "metadata": {},
   "outputs": [],
   "source": []
  },
  {
   "cell_type": "code",
   "execution_count": null,
   "id": "98700a27-4061-40a1-8810-c1bb86788f97",
   "metadata": {},
   "outputs": [],
   "source": []
  },
  {
   "cell_type": "code",
   "execution_count": null,
   "id": "3bf9daea-bab5-4131-88d3-52e26774f366",
   "metadata": {},
   "outputs": [],
   "source": []
  },
  {
   "cell_type": "code",
   "execution_count": null,
   "id": "c6acec5c-1601-4846-aa2c-2dd4004ec2ff",
   "metadata": {},
   "outputs": [],
   "source": []
  }
 ],
 "metadata": {
  "kernelspec": {
   "display_name": "Python 3 (ipykernel)",
   "language": "python",
   "name": "python3"
  },
  "language_info": {
   "codemirror_mode": {
    "name": "ipython",
    "version": 3
   },
   "file_extension": ".py",
   "mimetype": "text/x-python",
   "name": "python",
   "nbconvert_exporter": "python",
   "pygments_lexer": "ipython3",
   "version": "3.8.11"
  }
 },
 "nbformat": 4,
 "nbformat_minor": 5
}
